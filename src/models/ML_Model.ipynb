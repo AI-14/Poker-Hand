{
 "cells": [
  {
   "cell_type": "markdown",
   "metadata": {},
   "source": [
    "# Machine Learning On Poker Hand Dataset"
   ]
  },
  {
   "cell_type": "markdown",
   "metadata": {},
   "source": [
    "Since the data is categorical in nature (10 categories), we will use classification algorithms from sklearn. If need be, we will use Boosting or Bagging techniques."
   ]
  },
  {
   "cell_type": "code",
   "execution_count": 1,
   "metadata": {},
   "outputs": [],
   "source": [
    "import warnings\n",
    "warnings.filterwarnings('ignore')"
   ]
  },
  {
   "cell_type": "markdown",
   "metadata": {},
   "source": [
    "## Helper functions"
   ]
  },
  {
   "cell_type": "code",
   "execution_count": 2,
   "metadata": {},
   "outputs": [],
   "source": [
    "import pandas as pd\n",
    "\n",
    "def load_data(path):\n",
    "    df = pd.read_csv(path)\n",
    "    return df"
   ]
  },
  {
   "cell_type": "code",
   "execution_count": 3,
   "metadata": {},
   "outputs": [],
   "source": [
    "from sklearn.preprocessing import StandardScaler\n",
    "\n",
    "def scale_data(x):\n",
    "    scaler = StandardScaler()\n",
    "    x = scaler.fit_transform(x)\n",
    "    return x"
   ]
  },
  {
   "cell_type": "code",
   "execution_count": 4,
   "metadata": {},
   "outputs": [],
   "source": [
    "from sklearn.model_selection import train_test_split\n",
    "\n",
    "def get_prep_data():\n",
    "    df_train = load_data('../../dataset/poker-hand-traintest')\n",
    "    df_test = load_data('../../dataset/poker-hand-test')\n",
    "    \n",
    "    df_train = df_train.iloc[:, 1:]\n",
    "    df_test = df_test.iloc[:25009, 1:]\n",
    "    \n",
    "    df = pd.concat([df_train, df_test])\n",
    "    \n",
    "    x = df.iloc[:, 0:10]\n",
    "    x = scale_data(x)\n",
    "    y = df['Hand']\n",
    "    data_splits = train_test_split(x, y, test_size=0.2)\n",
    "    return data_splits"
   ]
  },
  {
   "cell_type": "code",
   "execution_count": 5,
   "metadata": {},
   "outputs": [
    {
     "name": "stdout",
     "output_type": "stream",
     "text": [
      "x_train: (40014, 10) \n",
      "y_train: (40014,) \n",
      "x_test: (10004, 10) \n",
      "y_test: (10004,)\n"
     ]
    }
   ],
   "source": [
    "x_train, x_test, y_train, y_test = get_prep_data()\n",
    "print(f'x_train: {x_train.shape} \\ny_train: {y_train.shape} \\nx_test: {x_test.shape} \\ny_test: {y_test.shape}')"
   ]
  },
  {
   "cell_type": "markdown",
   "metadata": {},
   "source": [
    "## Logistic Regression"
   ]
  },
  {
   "cell_type": "code",
   "execution_count": 6,
   "metadata": {},
   "outputs": [
    {
     "name": "stdout",
     "output_type": "stream",
     "text": [
      "Accuracy Score:  0.501999200319872\n",
      "Confusion matrix: \n",
      " [[5022    0    0    0    0    0    0    0    0]\n",
      " [4212    0    0    0    0    0    0    0    0]\n",
      " [ 474    0    0    0    0    0    0    0    0]\n",
      " [ 227    0    0    0    0    0    0    0    0]\n",
      " [  34    0    0    0    0    0    0    0    0]\n",
      " [  20    0    0    0    0    0    0    0    0]\n",
      " [  13    0    0    0    0    0    0    0    0]\n",
      " [   1    0    0    0    0    0    0    0    0]\n",
      " [   1    0    0    0    0    0    0    0    0]]\n"
     ]
    }
   ],
   "source": [
    "from sklearn.linear_model import LogisticRegression\n",
    "from sklearn.metrics import accuracy_score, confusion_matrix\n",
    "\n",
    "logreg = LogisticRegression()\n",
    "logreg.fit(x_train, y_train)\n",
    "y_pred = logreg.predict(x_test)\n",
    "print('Accuracy Score: ', accuracy_score(y_test, y_pred))\n",
    "print('Confusion matrix: \\n', confusion_matrix(y_test, y_pred))"
   ]
  },
  {
   "cell_type": "markdown",
   "metadata": {},
   "source": [
    "## SVM"
   ]
  },
  {
   "cell_type": "code",
   "execution_count": 7,
   "metadata": {},
   "outputs": [
    {
     "name": "stdout",
     "output_type": "stream",
     "text": [
      "Accuracy Score:  0.5697720911635346\n",
      "Confusion matrix: \n",
      " [[4003 1019    0    0    0    0    0    0    0]\n",
      " [2515 1697    0    0    0    0    0    0    0]\n",
      " [ 225  249    0    0    0    0    0    0    0]\n",
      " [  65  162    0    0    0    0    0    0    0]\n",
      " [   0   34    0    0    0    0    0    0    0]\n",
      " [  18    2    0    0    0    0    0    0    0]\n",
      " [   2   11    0    0    0    0    0    0    0]\n",
      " [   0    1    0    0    0    0    0    0    0]\n",
      " [   0    1    0    0    0    0    0    0    0]]\n"
     ]
    }
   ],
   "source": [
    "from sklearn.svm import SVC, LinearSVC\n",
    "\n",
    "svc = SVC(C=2.5, kernel='rbf')\n",
    "svc.fit(x_train, y_train)\n",
    "y_pred = svc.predict(x_test)\n",
    "print('Accuracy Score: ', accuracy_score(y_test, y_pred))\n",
    "print('Confusion matrix: \\n', confusion_matrix(y_test, y_pred))"
   ]
  },
  {
   "cell_type": "code",
   "execution_count": 10,
   "metadata": {},
   "outputs": [
    {
     "name": "stdout",
     "output_type": "stream",
     "text": [
      "Accuracy Score:  0.5061975209916033\n",
      "Confusion matrix: \n",
      " [[5064    0    0    0    0    0    0    0    0    0]\n",
      " [4170    0    0    0    0    0    0    0    0    0]\n",
      " [ 492    0    0    0    0    0    0    0    0    0]\n",
      " [ 197    0    0    0    0    0    0    0    0    0]\n",
      " [  39    0    0    0    0    0    0    0    0    0]\n",
      " [  17    0    0    0    0    0    0    0    0    0]\n",
      " [  19    0    0    0    0    0    0    0    0    0]\n",
      " [   4    0    0    0    0    0    0    0    0    0]\n",
      " [   1    0    0    0    0    0    0    0    0    0]\n",
      " [   1    0    0    0    0    0    0    0    0    0]]\n"
     ]
    }
   ],
   "source": [
    "linsvc = LinearSVC()\n",
    "linsvc.fit(x_train, y_train)\n",
    "y_pred = linsvc.predict(x_test)\n",
    "print('Accuracy Score: ', accuracy_score(y_test, y_pred))\n",
    "print('Confusion matrix: \\n', confusion_matrix(y_test, y_pred))"
   ]
  },
  {
   "cell_type": "markdown",
   "metadata": {},
   "source": [
    "## Decision Tree"
   ]
  },
  {
   "cell_type": "code",
   "execution_count": 11,
   "metadata": {},
   "outputs": [
    {
     "name": "stdout",
     "output_type": "stream",
     "text": [
      "Accuracy Score:  0.5268892443022791\n",
      "Confusion matrix: \n",
      " [[3048 1781  138   56   17   23    1    0    0    0]\n",
      " [1612 2105  261  139   32   14    4    0    3    0]\n",
      " [ 101  269   79   31   10    0    2    0    0    0]\n",
      " [  37  103   21   34    0    0    2    0    0    0]\n",
      " [   8   14    9    4    4    0    0    0    0    0]\n",
      " [  12    4    0    1    0    0    0    0    0    0]\n",
      " [   2    7    5    3    0    0    1    1    0    0]\n",
      " [   0    3    0    1    0    0    0    0    0    0]\n",
      " [   1    0    0    0    0    0    0    0    0    0]\n",
      " [   0    1    0    0    0    0    0    0    0    0]]\n"
     ]
    }
   ],
   "source": [
    "from sklearn.tree import DecisionTreeClassifier\n",
    "\n",
    "dt = DecisionTreeClassifier(criterion='entropy', splitter='random')\n",
    "dt.fit(x_train, y_train)\n",
    "y_pred = dt.predict(x_test)\n",
    "print('Accuracy Score: ', accuracy_score(y_test, y_pred))\n",
    "print('Confusion matrix: \\n', confusion_matrix(y_test, y_pred))"
   ]
  },
  {
   "cell_type": "code",
   "execution_count": 10,
   "metadata": {},
   "outputs": [
    {
     "name": "stdout",
     "output_type": "stream",
     "text": [
      "Accuracy Score:  0.43662534986005597\n",
      "Confusion matrix: \n",
      " [[1262 1014  131   62   15    3    5    4    1    1]\n",
      " [ 987  885  137   69   20    0    8    0    0    2]\n",
      " [ 100  119   17   11    1    0    0    0    0    0]\n",
      " [  45   47    8    8    0    0    0    0    0    0]\n",
      " [   8    7    3    1    0    0    0    0    0    0]\n",
      " [   3    0    0    0    0   12    0    0    0    0]\n",
      " [   1    5    0    0    0    0    0    0    0    0]\n",
      " [   0    0    0    0    0    0    0    0    0    0]\n",
      " [   0    0    0    0    0    0    0    0    0    0]\n",
      " [   0    0    0    0    0    0    0    0    0    0]]\n"
     ]
    }
   ],
   "source": [
    "dt = DecisionTreeClassifier(criterion='entropy', splitter='random')\n",
    "dt.fit(x_train, y_train)\n",
    "y_pred = dt.predict(x_test)\n",
    "print('Accuracy Score: ', accuracy_score(y_test, y_pred))\n",
    "print('Confusion matrix: \\n', confusion_matrix(y_test, y_pred))"
   ]
  },
  {
   "cell_type": "code",
   "execution_count": 12,
   "metadata": {},
   "outputs": [
    {
     "name": "stdout",
     "output_type": "stream",
     "text": [
      "Accuracy Score:  0.4634146341463415\n",
      "Confusion matrix: \n",
      " [[2718 1978  245  100   15    1    7    0    0    0]\n",
      " [1864 1843  276  152   25    1    5    3    1    0]\n",
      " [ 167  242   53   22    7    0    1    0    0    0]\n",
      " [  71   88   20   13    4    0    1    0    0    0]\n",
      " [   8   15   11    3    1    0    0    0    1    0]\n",
      " [   6    2    0    0    0    8    0    0    0    1]\n",
      " [   9    6    1    3    0    0    0    0    0    0]\n",
      " [   1    3    0    0    0    0    0    0    0    0]\n",
      " [   0    0    0    0    0    1    0    0    0    0]\n",
      " [   0    0    0    0    0    1    0    0    0    0]]\n"
     ]
    }
   ],
   "source": [
    "dt = DecisionTreeClassifier(criterion='entropy', splitter='random')\n",
    "dt.fit(x_train, y_train)\n",
    "y_pred = dt.predict(x_test)\n",
    "print('Accuracy Score: ', accuracy_score(y_test, y_pred))\n",
    "print('Confusion matrix: \\n', confusion_matrix(y_test, y_pred))"
   ]
  },
  {
   "cell_type": "markdown",
   "metadata": {},
   "source": [
    "We cant keep on trying randomized splits. Anyways, it seems that accuracy wont go more than 50% at most."
   ]
  },
  {
   "cell_type": "markdown",
   "metadata": {},
   "source": [
    "## Random Forest"
   ]
  },
  {
   "cell_type": "code",
   "execution_count": 13,
   "metadata": {},
   "outputs": [
    {
     "name": "stdout",
     "output_type": "stream",
     "text": [
      "Accuracy Score:  0.6417433026789284\n",
      "Confusion matrix: \n",
      " [[4228  836    0    0    0    0    0    0    0    0]\n",
      " [1978 2189    2    0    1    0    0    0    0    0]\n",
      " [  94  397    1    0    0    0    0    0    0    0]\n",
      " [  21  172    2    2    0    0    0    0    0    0]\n",
      " [   0   39    0    0    0    0    0    0    0    0]\n",
      " [  17    0    0    0    0    0    0    0    0    0]\n",
      " [   0   19    0    0    0    0    0    0    0    0]\n",
      " [   0    4    0    0    0    0    0    0    0    0]\n",
      " [   0    1    0    0    0    0    0    0    0    0]\n",
      " [   0    1    0    0    0    0    0    0    0    0]]\n"
     ]
    }
   ],
   "source": [
    "from sklearn.ensemble import RandomForestClassifier\n",
    "\n",
    "rf = RandomForestClassifier(n_estimators=250, criterion='gini', max_features='sqrt')\n",
    "rf.fit(x_train, y_train)\n",
    "y_pred = rf.predict(x_test)\n",
    "print('Accuracy Score: ', accuracy_score(y_test, y_pred))\n",
    "print('Confusion matrix: \\n', confusion_matrix(y_test, y_pred))"
   ]
  },
  {
   "cell_type": "markdown",
   "metadata": {},
   "source": [
    "We can try to boost this classifier."
   ]
  },
  {
   "cell_type": "markdown",
   "metadata": {},
   "source": [
    "## Boosting"
   ]
  },
  {
   "cell_type": "code",
   "execution_count": 14,
   "metadata": {},
   "outputs": [
    {
     "name": "stdout",
     "output_type": "stream",
     "text": [
      "Accuracy Score:  0.48370651739304277\n",
      "Confusion matrix: \n",
      " [[4684  170    0    0    0    0    0    0  210    0]\n",
      " [3852  155    0    0    0    0    0    0  163    0]\n",
      " [ 452   24    0    0    0    0    0    0   16    0]\n",
      " [ 180   11    0    0    0    0    0    0    6    0]\n",
      " [  37    2    0    0    0    0    0    0    0    0]\n",
      " [  16    1    0    0    0    0    0    0    0    0]\n",
      " [  15    2    0    0    0    0    0    0    2    0]\n",
      " [   3    1    0    0    0    0    0    0    0    0]\n",
      " [   1    0    0    0    0    0    0    0    0    0]\n",
      " [   1    0    0    0    0    0    0    0    0    0]]\n"
     ]
    }
   ],
   "source": [
    "from sklearn.ensemble import AdaBoostClassifier\n",
    "\n",
    "ada = AdaBoostClassifier(n_estimators=150, algorithm='SAMME.R')\n",
    "ada.fit(x_train, y_train)\n",
    "y_pred = ada.predict(x_test)\n",
    "print('Accuracy Score: ', accuracy_score(y_test, y_pred))\n",
    "print('Confusion matrix: \\n', confusion_matrix(y_test, y_pred))"
   ]
  },
  {
   "cell_type": "code",
   "execution_count": 17,
   "metadata": {},
   "outputs": [
    {
     "name": "stdout",
     "output_type": "stream",
     "text": [
      "Accuracy Score:  0.6444422231107557\n",
      "Confusion matrix: \n",
      " [[4251  813    0    0    0    0    0    0    0    0]\n",
      " [1974 2193    2    0    1    0    0    0    0    0]\n",
      " [  74  417    1    0    0    0    0    0    0    0]\n",
      " [  27  167    1    2    0    0    0    0    0    0]\n",
      " [   0   39    0    0    0    0    0    0    0    0]\n",
      " [  17    0    0    0    0    0    0    0    0    0]\n",
      " [   0   18    1    0    0    0    0    0    0    0]\n",
      " [   0    4    0    0    0    0    0    0    0    0]\n",
      " [   0    1    0    0    0    0    0    0    0    0]\n",
      " [   0    1    0    0    0    0    0    0    0    0]]\n"
     ]
    }
   ],
   "source": [
    "adarf = AdaBoostClassifier(n_estimators=250, algorithm='SAMME.R', base_estimator=rf)\n",
    "adarf.fit(x_train, y_train)\n",
    "y_pred = adarf.predict(x_test)\n",
    "print('Accuracy Score: ', accuracy_score(y_test, y_pred))\n",
    "print('Confusion matrix: \\n', confusion_matrix(y_test, y_pred))"
   ]
  },
  {
   "cell_type": "markdown",
   "metadata": {},
   "source": [
    "## Extra Trees"
   ]
  },
  {
   "cell_type": "code",
   "execution_count": 18,
   "metadata": {},
   "outputs": [
    {
     "name": "stdout",
     "output_type": "stream",
     "text": [
      "Accuracy Score:  0.5964614154338265\n",
      "Confusion matrix: \n",
      " [[4003 1061    0    0    0    0    0    0    0    0]\n",
      " [2206 1958    4    0    2    0    0    0    0    0]\n",
      " [ 149  339    3    0    1    0    0    0    0    0]\n",
      " [  39  154    2    2    0    0    0    0    0    0]\n",
      " [   6   33    0    0    0    0    0    0    0    0]\n",
      " [  16    0    0    0    0    1    0    0    0    0]\n",
      " [   2   17    0    0    0    0    0    0    0    0]\n",
      " [   0    4    0    0    0    0    0    0    0    0]\n",
      " [   0    1    0    0    0    0    0    0    0    0]\n",
      " [   0    1    0    0    0    0    0    0    0    0]]\n"
     ]
    }
   ],
   "source": [
    "from sklearn.ensemble import ExtraTreesClassifier\n",
    "\n",
    "ext = ExtraTreesClassifier(n_estimators=125, criterion='gini')\n",
    "ext.fit(x_train, y_train)\n",
    "y_pred = ext.predict(x_test)\n",
    "print('Accuracy Score: ', accuracy_score(y_test, y_pred))\n",
    "print('Confusion matrix: \\n', confusion_matrix(y_test, y_pred))"
   ]
  },
  {
   "cell_type": "markdown",
   "metadata": {},
   "source": [
    "## Voting Classifier"
   ]
  },
  {
   "cell_type": "code",
   "execution_count": 19,
   "metadata": {},
   "outputs": [
    {
     "name": "stdout",
     "output_type": "stream",
     "text": [
      "Accuracy Score:  0.6352459016393442\n",
      "Confusion matrix: \n",
      " [[4217  847    0    0    0    0    0    0    0    0]\n",
      " [2030 2136    3    0    1    0    0    0    0    0]\n",
      " [ 103  387    1    0    1    0    0    0    0    0]\n",
      " [  25  170    1    1    0    0    0    0    0    0]\n",
      " [   1   38    0    0    0    0    0    0    0    0]\n",
      " [  17    0    0    0    0    0    0    0    0    0]\n",
      " [   0   19    0    0    0    0    0    0    0    0]\n",
      " [   0    4    0    0    0    0    0    0    0    0]\n",
      " [   0    1    0    0    0    0    0    0    0    0]\n",
      " [   0    1    0    0    0    0    0    0    0    0]]\n"
     ]
    }
   ],
   "source": [
    "estimators = list()\n",
    "estimators.append(('adarf', adarf))\n",
    "estimators.append(('ext', ext))\n",
    "estimators.append(('rf', rf))\n",
    "\n",
    "from sklearn.ensemble import VotingClassifier\n",
    "\n",
    "vc = VotingClassifier(estimators = estimators, voting ='soft')\n",
    "vc.fit(x_train, y_train)\n",
    "y_pred = vc.predict(x_test)\n",
    "print('Accuracy Score: ', accuracy_score(y_test, y_pred))\n",
    "print('Confusion matrix: \\n', confusion_matrix(y_test, y_pred))"
   ]
  },
  {
   "cell_type": "markdown",
   "metadata": {},
   "source": [
    "## Stacked Classifiers"
   ]
  },
  {
   "cell_type": "code",
   "execution_count": 20,
   "metadata": {},
   "outputs": [
    {
     "name": "stdout",
     "output_type": "stream",
     "text": [
      "Accuracy Score:  0.6693322670931627\n",
      "Confusion matrix: \n",
      " [[4040 1024    0    0    0    0    0    0    0    0]\n",
      " [1529 2614   15   12    0    0    0    0    0    0]\n",
      " [  38  424   22    7    1    0    0    0    0    0]\n",
      " [   9  164    9   15    0    0    0    0    0    0]\n",
      " [   1   38    0    0    0    0    0    0    0    0]\n",
      " [  12    0    0    0    0    5    0    0    0    0]\n",
      " [   0   13    3    3    0    0    0    0    0    0]\n",
      " [   0    3    0    1    0    0    0    0    0    0]\n",
      " [   0    1    0    0    0    0    0    0    0    0]\n",
      " [   1    0    0    0    0    0    0    0    0    0]]\n"
     ]
    }
   ],
   "source": [
    "models = (('adarf', adarf), \n",
    "          ('ext', ext),\n",
    "          ('rf', rf))\n",
    "\n",
    "from sklearn.ensemble import StackingClassifier\n",
    "\n",
    "stclf = StackingClassifier(estimators=models, cv=5, n_jobs=5)\n",
    "stclf.fit(x_train, y_train)\n",
    "y_pred = stclf.predict(x_test)\n",
    "print('Accuracy Score: ', accuracy_score(y_test, y_pred))\n",
    "print('Confusion matrix: \\n', confusion_matrix(y_test, y_pred))"
   ]
  },
  {
   "cell_type": "markdown",
   "metadata": {},
   "source": [
    "WOW! It is almost 67%. But still very low. We will have to stick to deel learning model for better classification as the data itself is highly imbalanced. Anyways, we will save our stacked classifier so that we can use it in our streamlit app for comparitive study."
   ]
  },
  {
   "cell_type": "markdown",
   "metadata": {},
   "source": [
    "Let us save some models."
   ]
  },
  {
   "cell_type": "markdown",
   "metadata": {},
   "source": [
    "## Saving models"
   ]
  },
  {
   "cell_type": "code",
   "execution_count": 6,
   "metadata": {},
   "outputs": [],
   "source": [
    "import pickle"
   ]
  },
  {
   "cell_type": "code",
   "execution_count": 22,
   "metadata": {},
   "outputs": [],
   "source": [
    "pickle.dump(rf, open('random_forest.pkl', 'wb'))\n",
    "pickle.dump(adarf, open('adaboost_random_forest.pkl', 'wb'))\n",
    "pickle.dump(vc, open('voting_classifier.pkl', 'wb'))\n",
    "pickle.dump(stclf, open('stacking_classifier.pkl', 'wb'))"
   ]
  },
  {
   "cell_type": "markdown",
   "metadata": {},
   "source": [
    "## Using the models"
   ]
  },
  {
   "cell_type": "code",
   "execution_count": 16,
   "metadata": {},
   "outputs": [],
   "source": [
    "import numpy as np\n",
    "\n",
    "model_1 = pickle.load(open('random_forest.pkl', 'rb'))\n",
    "model_2 = pickle.load(open('adaboost_random_forest.pkl', 'rb'))\n",
    "model_3 = pickle.load(open('voting_classifier.pkl', 'rb'))\n",
    "model_4 = pickle.load(open('stacking_classifier.pkl', 'rb'))"
   ]
  },
  {
   "cell_type": "code",
   "execution_count": 17,
   "metadata": {},
   "outputs": [
    {
     "name": "stdout",
     "output_type": "stream",
     "text": [
      "[1] [3] [1] [3]\n"
     ]
    }
   ],
   "source": [
    "pred_1 = model_1.predict(np.array([2,11,2,13,2,10,2,12,2,1]).reshape(1,-1))\n",
    "pred_2 = model_2.predict(np.array([2,11,2,13,2,10,2,12,2,1]).reshape(1,-1))\n",
    "pred_3 = model_3.predict(np.array([2,11,2,13,2,10,2,12,2,1]).reshape(1,-1))\n",
    "pred_4 = model_4.predict(np.array([2,11,2,13,2,10,2,12,2,1]).reshape(1,-1))\n",
    "\n",
    "print(pred_1, pred_2, pred_3, pred_4)"
   ]
  },
  {
   "cell_type": "markdown",
   "metadata": {},
   "source": [
    "Hence, we are done with machine learning. Let us move onto deep learning to improve our project."
   ]
  }
 ],
 "metadata": {
  "kernelspec": {
   "display_name": "Python 3",
   "language": "python",
   "name": "python3"
  },
  "language_info": {
   "codemirror_mode": {
    "name": "ipython",
    "version": 3
   },
   "file_extension": ".py",
   "mimetype": "text/x-python",
   "name": "python",
   "nbconvert_exporter": "python",
   "pygments_lexer": "ipython3",
   "version": "3.8.4"
  }
 },
 "nbformat": 4,
 "nbformat_minor": 4
}
